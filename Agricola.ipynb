{
 "cells": [
  {
   "cell_type": "code",
   "execution_count": 3,
   "metadata": {},
   "outputs": [],
   "source": [
    "from bs4 import BeautifulSoup\n",
    "import requests"
   ]
  },
  {
   "cell_type": "code",
   "execution_count": 4,
   "metadata": {},
   "outputs": [],
   "source": [
    "import pandas as pd\n",
    "from datetime import datetime"
   ]
  },
  {
   "cell_type": "code",
   "execution_count": 6,
   "metadata": {},
   "outputs": [],
   "source": [
    "url = 'https://economia.uol.com.br/cotacoes/'\n",
    "response = requests.get(url)\n",
    "html = response.content"
   ]
  },
  {
   "cell_type": "code",
   "execution_count": 65,
   "metadata": {},
   "outputs": [],
   "source": [
    "res = []"
   ]
  },
  {
   "cell_type": "code",
   "execution_count": 66,
   "metadata": {},
   "outputs": [
    {
     "data": {
      "text/html": [
       "<div>\n",
       "<style scoped>\n",
       "    .dataframe tbody tr th:only-of-type {\n",
       "        vertical-align: middle;\n",
       "    }\n",
       "\n",
       "    .dataframe tbody tr th {\n",
       "        vertical-align: top;\n",
       "    }\n",
       "\n",
       "    .dataframe thead th {\n",
       "        text-align: right;\n",
       "    }\n",
       "</style>\n",
       "<table border=\"1\" class=\"dataframe\">\n",
       "  <thead>\n",
       "    <tr style=\"text-align: right;\">\n",
       "      <th></th>\n",
       "      <th>Produto</th>\n",
       "      <th>Preco</th>\n",
       "      <th>Data</th>\n",
       "    </tr>\n",
       "  </thead>\n",
       "  <tbody>\n",
       "    <tr>\n",
       "      <th>0</th>\n",
       "      <td>Açúcar</td>\n",
       "      <td>R$ 154,46 por saca de 50kg</td>\n",
       "      <td>15 DE DEZEMBRO DE 2021</td>\n",
       "    </tr>\n",
       "    <tr>\n",
       "      <th>1</th>\n",
       "      <td>Algodão</td>\n",
       "      <td>R$ 6,3803 por libra-peso</td>\n",
       "      <td>15 DE DEZEMBRO DE 2021</td>\n",
       "    </tr>\n",
       "    <tr>\n",
       "      <th>2</th>\n",
       "      <td>Arroz</td>\n",
       "      <td>R$ 62,27 por saca de 50kg</td>\n",
       "      <td>15 DE DEZEMBRO DE 2021</td>\n",
       "    </tr>\n",
       "    <tr>\n",
       "      <th>3</th>\n",
       "      <td>Bezerro</td>\n",
       "      <td>R$ 2.983,13 por cabeça ou uni.</td>\n",
       "      <td>15 DE DEZEMBRO DE 2021</td>\n",
       "    </tr>\n",
       "    <tr>\n",
       "      <th>4</th>\n",
       "      <td>Boi Gordo</td>\n",
       "      <td>R$ 308,00 por arroba</td>\n",
       "      <td>15 DE DEZEMBRO DE 2021</td>\n",
       "    </tr>\n",
       "    <tr>\n",
       "      <th>5</th>\n",
       "      <td>Café</td>\n",
       "      <td>R$ 1.463,61 por saca de 60kg</td>\n",
       "      <td>15 DE DEZEMBRO DE 2021</td>\n",
       "    </tr>\n",
       "    <tr>\n",
       "      <th>6</th>\n",
       "      <td>Milho</td>\n",
       "      <td>R$ 87,56 por saca de 60kg</td>\n",
       "      <td>15 DE DEZEMBRO DE 2021</td>\n",
       "    </tr>\n",
       "  </tbody>\n",
       "</table>\n",
       "</div>"
      ],
      "text/plain": [
       "         Produto                               Preco                     Data\n",
       "0       Açúcar          R$ 154,46 por saca de 50kg    15 DE DEZEMBRO DE 2021 \n",
       "1      Algodão            R$ 6,3803 por libra-peso    15 DE DEZEMBRO DE 2021 \n",
       "2        Arroz           R$ 62,27 por saca de 50kg    15 DE DEZEMBRO DE 2021 \n",
       "3      Bezerro      R$ 2.983,13 por cabeça ou uni.    15 DE DEZEMBRO DE 2021 \n",
       "4    Boi Gordo                R$ 308,00 por arroba    15 DE DEZEMBRO DE 2021 \n",
       "5         Café        R$ 1.463,61 por saca de 60kg    15 DE DEZEMBRO DE 2021 \n",
       "6        Milho           R$ 87,56 por saca de 60kg    15 DE DEZEMBRO DE 2021 "
      ]
     },
     "execution_count": 66,
     "metadata": {},
     "output_type": "execute_result"
    }
   ],
   "source": [
    "soup = BeautifulSoup(html, 'html.parser')\n",
    "divs = soup.findAll('div', attrs={'class':'col-lg-6 col-md-6 col-sm-12 col-xs-12 accordion'})\n",
    "\n",
    "table = []\n",
    "for div in divs:\n",
    "    table.extend(div.find('table'))\n",
    "\n",
    "table_rows = table[5].find_all('tr')\n",
    "\n",
    "for tr in table_rows:\n",
    "    date = table[4].text\n",
    "    td = tr.find_all('td')\n",
    "    row = [tr.text for tr in td]\n",
    "    row = row + [date]\n",
    "    if row:\n",
    "        res.append(row)\n",
    "        \n",
    "df = pd.DataFrame(res, columns=['Produto', 'Preco', 'Data'])\n",
    "df = df.dropna()\n",
    "df"
   ]
  }
 ],
 "metadata": {
  "interpreter": {
   "hash": "11ffc019a02cc0e21e59860b66c88ea81995ce9237607e8ab2c087a287ee4867"
  },
  "kernelspec": {
   "display_name": "Python 3.9.7 64-bit ('base': conda)",
   "language": "python",
   "name": "python3"
  },
  "language_info": {
   "codemirror_mode": {
    "name": "ipython",
    "version": 3
   },
   "file_extension": ".py",
   "mimetype": "text/x-python",
   "name": "python",
   "nbconvert_exporter": "python",
   "pygments_lexer": "ipython3",
   "version": "3.9.7"
  },
  "orig_nbformat": 4
 },
 "nbformat": 4,
 "nbformat_minor": 2
}
